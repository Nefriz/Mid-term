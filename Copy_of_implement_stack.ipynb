{
  "nbformat": 4,
  "nbformat_minor": 0,
  "metadata": {
    "colab": {
      "provenance": []
    },
    "kernelspec": {
      "name": "python3",
      "display_name": "Python 3"
    },
    "language_info": {
      "name": "python"
    }
  },
  "cells": [
    {
      "cell_type": "markdown",
      "source": [
        "**Task:** You are tasked with completing a partially implemented Stack data structure that uses a singly linked list for its underlying storage. The Stack class already includes the following:\n",
        "\n",
        "* `Node` class to represent each element in the stack.\n",
        "* `push(data)` method to add an element to the stack.\n",
        "* `is_empty()` method to check if the stack is empty.\n",
        "\n",
        "Your task is to implement the following two methods in the Stack class:\n",
        "\n",
        "* `peek()`: Returns the data of the element at the top of the stack without removing it.\n",
        "* `pop()`: Removes and returns the data of the element at the top of the stack.\n",
        "\n",
        "\n",
        "**Please** consider empty Stack case (or other edge cases) when you will be implementing those methods.\n",
        "\n",
        "You are allowed to modify the existing code, including other methods, and add new methods or attributes to the class.\n",
        "\n",
        "**NOTE:** If you modified the Code section below, don't forget to \"re-run\" the cell to apply the changes, before running the test cases."
      ],
      "metadata": {
        "id": "qMpb7NFfkYjp"
      }
    },
    {
      "cell_type": "code",
      "execution_count": 1,
      "metadata": {
        "id": "Jl3Vgd9L7RMW"
      },
      "outputs": [],
      "source": [
        "class Node:\n",
        "    def __init__(self, data):\n",
        "        self.data = data\n",
        "        self.next = None\n",
        "\n",
        "class Stack:\n",
        "    def __init__(self):\n",
        "        self.top = None  # The top of the stack\n",
        "\n",
        "    def push(self, data):\n",
        "        # Create a new node and make it the new top of the stack\n",
        "        new_node = Node(data)\n",
        "        new_node.next = self.top\n",
        "        self.top = new_node\n",
        "\n",
        "    def peek(self):\n",
        "        if self.top is None:\n",
        "          return None\n",
        "        return self.top.data\n",
        "\n",
        "    def pop(self):\n",
        "        if self.top is None:\n",
        "          return None\n",
        "        if self.top.next is None:\n",
        "          data = self.top.data\n",
        "          self.top = None\n",
        "          return data\n",
        "        else:\n",
        "          data = self.top.data\n",
        "          self.top = self.top.next\n",
        "          return data\n",
        "\n",
        "\n",
        "    def is_empty(self):\n",
        "        # Returns True if the stack is empty, otherwise False\n",
        "        return self.top is None"
      ]
    },
    {
      "cell_type": "markdown",
      "source": [
        "You can test your implementation using the test cases below.\n",
        "\n",
        "It's not allowed to remove tests. But you can add more tests or add more cells (sections)."
      ],
      "metadata": {
        "id": "NOdjUE--lO8e"
      }
    },
    {
      "cell_type": "code",
      "source": [
        "# @title Tests\n",
        "\n",
        "# Example usage\n",
        "stack = Stack()\n",
        "stack.push(10)\n",
        "stack.push(20)\n",
        "stack.push(30)\n",
        "\n",
        "assert stack.peek() == 30, \"Test case 1 failed\"\n",
        "assert stack.pop() == 30, \"Test case 2 failed\"\n",
        "assert stack.pop() == 20, \"Test case 3 failed\"\n",
        "assert stack.peek() == 10, \"Test case 4 failed\"\n",
        "assert stack.is_empty() == False, \"Test case 5 failed\"\n",
        "assert stack.pop() == 10, \"Test case 6 failed\"\n",
        "assert stack.pop() == None, \"Test case 7 failed\"\n",
        "assert stack.peek() == None, \"Test case 8 failed\"\n",
        "assert stack.is_empty() == True, \"Test case 9 failed\"\n",
        "\n",
        "\n",
        "print(\"\\033[92mAll test cases passed\\033[0m\")\n"
      ],
      "metadata": {
        "colab": {
          "base_uri": "https://localhost:8080/"
        },
        "id": "l75fcwZplW42",
        "outputId": "01cdcbdd-8608-4100-b7f1-4749ddc3fd6b"
      },
      "execution_count": 2,
      "outputs": [
        {
          "output_type": "stream",
          "name": "stdout",
          "text": [
            "\u001b[92mAll test cases passed\u001b[0m\n"
          ]
        }
      ]
    },
    {
      "cell_type": "markdown",
      "source": [
        "**Expected Output:**\n",
        "\n",
        "All test cases passed"
      ],
      "metadata": {
        "id": "SkV80OK-mf5y"
      }
    }
  ]
}