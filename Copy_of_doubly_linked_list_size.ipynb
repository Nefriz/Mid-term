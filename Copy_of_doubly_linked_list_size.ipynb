{
  "nbformat": 4,
  "nbformat_minor": 0,
  "metadata": {
    "colab": {
      "provenance": []
    },
    "kernelspec": {
      "name": "python3",
      "display_name": "Python 3"
    },
    "language_info": {
      "name": "python"
    }
  },
  "cells": [
    {
      "cell_type": "markdown",
      "source": [
        "**Task:** You have the implementation of a doubly linked list. The `size()` method calculates the size of the linked list (number of elements) in `O(n)` time complexity. Modify the code, so that size is calculated in `O(1)` time complexity, instead of `O(n)`.\n",
        "Please also make sure that your solution works correctly with edge cases (e.g. empty list).\n",
        "\n",
        "You are allowed to modify the existing code, including other methods, and add new methods or attributes to the class.\n",
        "\n",
        "**NOTE**: If you modified the `Code` section below, don't forget to \"re-run\" the cell to apply the changes, before running the test cases."
      ],
      "metadata": {
        "id": "qMpb7NFfkYjp"
      }
    },
    {
      "cell_type": "code",
      "execution_count": 4,
      "metadata": {
        "id": "Jl3Vgd9L7RMW"
      },
      "outputs": [],
      "source": [
        "# @title Code\n",
        "class Node:\n",
        "    def __init__(self, data):\n",
        "        self.data = data\n",
        "        self.next = None\n",
        "        self.prev = None\n",
        "\n",
        "\n",
        "# TODO: Modify the code, so that size is calculated in O(1) time complexity, instead of O(n)\n",
        "#\n",
        "class DoublyLinkedList:\n",
        "    def __init__(self):\n",
        "        self.head = None\n",
        "        self.tail = None\n",
        "        self.size1 = 0\n",
        "\n",
        "    def insert(self, data):\n",
        "        new_node = Node(data)\n",
        "        self.size1 += 1\n",
        "        if self.head is None:\n",
        "            self.head = new_node\n",
        "            self.tail = new_node\n",
        "        else:\n",
        "            self.head.prev = new_node\n",
        "            new_node.next = self.head\n",
        "            self.head = new_node\n",
        "\n",
        "    def delete(self):\n",
        "        if self.head is None:\n",
        "            return None\n",
        "        removed_data = self.head.data\n",
        "        self.head = self.head.next\n",
        "        if self.head is not None:\n",
        "            self.head.prev = None\n",
        "        self.size1 -= 1\n",
        "        return removed_data\n",
        "\n",
        "    def size(self):\n",
        "        return self.size1\n"
      ]
    },
    {
      "cell_type": "markdown",
      "source": [
        "You can test your implementation using the test cases below.\n",
        "\n",
        "It's not allowed to remove tests. But you can add more tests or add more cells (sections)."
      ],
      "metadata": {
        "id": "NOdjUE--lO8e"
      }
    },
    {
      "cell_type": "code",
      "source": [
        "# @title Tests\n",
        "\n",
        "ll = DoublyLinkedList()\n",
        "ll.insert(10)\n",
        "ll.insert(20)\n",
        "ll.insert(30)\n",
        "assert ll.size() == 3, \"Test case 1 failed\"\n",
        "ll.delete()\n",
        "assert ll.size() == 2, \"Test case 2 failed\"\n",
        "ll.delete()\n",
        "ll.delete()\n",
        "assert ll.size() == 0, \"Test case 3 failed\"\n",
        "ll.delete()\n",
        "assert ll.size() == 0, \"Test case 4 failed\"\n",
        "ll.insert(40)\n",
        "assert ll.size() == 1, \"Test case 5 failed\"\n",
        "\n",
        "print(\"\\033[92mAll test cases passed\\033[0m\")\n"
      ],
      "metadata": {
        "colab": {
          "base_uri": "https://localhost:8080/"
        },
        "id": "l75fcwZplW42",
        "outputId": "37712ff6-8144-466b-8cfd-1bbaadad8fa0"
      },
      "execution_count": 5,
      "outputs": [
        {
          "output_type": "stream",
          "name": "stdout",
          "text": [
            "\u001b[92mAll test cases passed\u001b[0m\n"
          ]
        }
      ]
    },
    {
      "cell_type": "markdown",
      "source": [
        "**Expected Output:**\n",
        "\n",
        "All test cases passed"
      ],
      "metadata": {
        "id": "SkV80OK-mf5y"
      }
    }
  ]
}