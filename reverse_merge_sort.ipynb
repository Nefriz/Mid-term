{
  "nbformat": 4,
  "nbformat_minor": 0,
  "metadata": {
    "colab": {
      "provenance": []
    },
    "kernelspec": {
      "name": "python3",
      "display_name": "Python 3"
    },
    "language_info": {
      "name": "python"
    }
  },
  "cells": [
    {
      "cell_type": "markdown",
      "source": [
        "**Task:** You are given the implementation of the `merge_sort` function that sorts the given array in ascending order using the merge sort algorithm and helper function `merge` that merges two arrays. You need to modify the code (e.g. `merge_sort` or/and `merge` functions) to sort the array in descending order.\n",
        "\n",
        "You are *allowed* to modify the existing code, including other functions.\n",
        "\n",
        "It's *not allowed* to use `reverse` or reverse the array post-sort, you should modify the algorithm intead.\n",
        "\n",
        "**NOTE**: If you modified the `Code` section below, don't forget to \"re-run\" the cell to apply the changes, before running the test cases."
      ],
      "metadata": {
        "id": "qMpb7NFfkYjp"
      }
    },
    {
      "cell_type": "code",
      "execution_count": null,
      "metadata": {
        "id": "Jl3Vgd9L7RMW"
      },
      "outputs": [],
      "source": [
        "# Given merge sort implementation\n",
        "def merge_sort(arr):\n",
        "    if len(arr) > 1:\n",
        "        mid = len(arr) // 2\n",
        "        left = arr[:mid]\n",
        "        right = arr[mid:]\n",
        "\n",
        "        merge_sort(left)\n",
        "        merge_sort(right)\n",
        "\n",
        "        merge(arr, left, right)\n",
        "\n",
        "def merge(arr, left, right):\n",
        "    i = j = k = 0\n",
        "\n",
        "    while i < len(left) and j < len(right):\n",
        "        if left[i] < right[j]:\n",
        "            arr[k] = left[i]\n",
        "            i += 1\n",
        "        else:\n",
        "            arr[k] = right[j]\n",
        "            j += 1\n",
        "        k += 1\n",
        "\n",
        "    # Copy remaining elements\n",
        "    while i < len(left):\n",
        "        arr[k] = left[i]\n",
        "        i += 1\n",
        "        k += 1\n",
        "\n",
        "    while j < len(right):\n",
        "        arr[k] = right[j]\n",
        "        j += 1\n",
        "        k += 1"
      ]
    },
    {
      "cell_type": "markdown",
      "source": [
        "You can test your implementation using the test cases below.\n",
        "\n",
        "It's not allowed to remove tests. But you can add more tests or add more cells (sections)."
      ],
      "metadata": {
        "id": "NOdjUE--lO8e"
      }
    },
    {
      "cell_type": "code",
      "source": [
        "# @title Tests\n",
        "\n",
        "arr = [3, 1, 4, 1, 5, 9, 2, 6]\n",
        "merge_sort(arr)\n",
        "assert arr == [9, 6, 5, 4, 3, 2, 1, 1], f\"Failed for {arr}\"\n",
        "\n",
        "arr = [1, 2, 3, 4, 5]\n",
        "merge_sort(arr)\n",
        "assert arr == [5, 4, 3, 2, 1], f\"Failed for {arr}\"\n",
        "\n",
        "arr = [5, 4, 3, 2, 1]\n",
        "merge_sort(arr)\n",
        "assert arr == [5, 4, 3, 2, 1], f\"Failed for {arr}\"\n",
        "\n",
        "print(\"\\033[92mAll test cases passed\\033[0m\")"
      ],
      "metadata": {
        "colab": {
          "base_uri": "https://localhost:8080/",
          "height": 216
        },
        "id": "l75fcwZplW42",
        "outputId": "f8199557-2789-4476-b89c-7cbc00c4fa4c"
      },
      "execution_count": null,
      "outputs": [
        {
          "output_type": "error",
          "ename": "AssertionError",
          "evalue": "Failed for [1, 1, 2, 3, 4, 5, 6, 9]",
          "traceback": [
            "\u001b[0;31m---------------------------------------------------------------------------\u001b[0m",
            "\u001b[0;31mAssertionError\u001b[0m                            Traceback (most recent call last)",
            "\u001b[0;32m<ipython-input-12-d6a6396a4595>\u001b[0m in \u001b[0;36m<cell line: 5>\u001b[0;34m()\u001b[0m\n\u001b[1;32m      3\u001b[0m \u001b[0marr\u001b[0m \u001b[0;34m=\u001b[0m \u001b[0;34m[\u001b[0m\u001b[0;36m3\u001b[0m\u001b[0;34m,\u001b[0m \u001b[0;36m1\u001b[0m\u001b[0;34m,\u001b[0m \u001b[0;36m4\u001b[0m\u001b[0;34m,\u001b[0m \u001b[0;36m1\u001b[0m\u001b[0;34m,\u001b[0m \u001b[0;36m5\u001b[0m\u001b[0;34m,\u001b[0m \u001b[0;36m9\u001b[0m\u001b[0;34m,\u001b[0m \u001b[0;36m2\u001b[0m\u001b[0;34m,\u001b[0m \u001b[0;36m6\u001b[0m\u001b[0;34m]\u001b[0m\u001b[0;34m\u001b[0m\u001b[0;34m\u001b[0m\u001b[0m\n\u001b[1;32m      4\u001b[0m \u001b[0mmerge_sort\u001b[0m\u001b[0;34m(\u001b[0m\u001b[0marr\u001b[0m\u001b[0;34m)\u001b[0m\u001b[0;34m\u001b[0m\u001b[0;34m\u001b[0m\u001b[0m\n\u001b[0;32m----> 5\u001b[0;31m \u001b[0;32massert\u001b[0m \u001b[0marr\u001b[0m \u001b[0;34m==\u001b[0m \u001b[0;34m[\u001b[0m\u001b[0;36m9\u001b[0m\u001b[0;34m,\u001b[0m \u001b[0;36m6\u001b[0m\u001b[0;34m,\u001b[0m \u001b[0;36m5\u001b[0m\u001b[0;34m,\u001b[0m \u001b[0;36m4\u001b[0m\u001b[0;34m,\u001b[0m \u001b[0;36m3\u001b[0m\u001b[0;34m,\u001b[0m \u001b[0;36m2\u001b[0m\u001b[0;34m,\u001b[0m \u001b[0;36m1\u001b[0m\u001b[0;34m,\u001b[0m \u001b[0;36m1\u001b[0m\u001b[0;34m]\u001b[0m\u001b[0;34m,\u001b[0m \u001b[0;34mf\"Failed for {arr}\"\u001b[0m\u001b[0;34m\u001b[0m\u001b[0;34m\u001b[0m\u001b[0m\n\u001b[0m\u001b[1;32m      6\u001b[0m \u001b[0;34m\u001b[0m\u001b[0m\n\u001b[1;32m      7\u001b[0m \u001b[0marr\u001b[0m \u001b[0;34m=\u001b[0m \u001b[0;34m[\u001b[0m\u001b[0;36m1\u001b[0m\u001b[0;34m,\u001b[0m \u001b[0;36m2\u001b[0m\u001b[0;34m,\u001b[0m \u001b[0;36m3\u001b[0m\u001b[0;34m,\u001b[0m \u001b[0;36m4\u001b[0m\u001b[0;34m,\u001b[0m \u001b[0;36m5\u001b[0m\u001b[0;34m]\u001b[0m\u001b[0;34m\u001b[0m\u001b[0;34m\u001b[0m\u001b[0m\n",
            "\u001b[0;31mAssertionError\u001b[0m: Failed for [1, 1, 2, 3, 4, 5, 6, 9]"
          ]
        }
      ]
    },
    {
      "cell_type": "markdown",
      "source": [
        "**Expected Output:**\n",
        "\n",
        "All test cases passed"
      ],
      "metadata": {
        "id": "SkV80OK-mf5y"
      }
    }
  ]
}