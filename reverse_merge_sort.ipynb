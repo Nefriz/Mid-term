{
 "nbformat": 4,
 "nbformat_minor": 0,
 "metadata": {
  "colab": {
   "provenance": []
  },
  "kernelspec": {
   "name": "python3",
   "display_name": "Python 3 (ipykernel)",
   "language": "python"
  },
  "language_info": {
   "name": "python"
  }
 },
 "cells": [
  {
   "cell_type": "markdown",
   "source": [
    "**Task:** You are given the implementation of the `merge_sort` function that sorts the given array in ascending order using the merge sort algorithm and helper function `merge` that merges two arrays. You need to modify the code (e.g. `merge_sort` or/and `merge` functions) to sort the array in descending order.\n",
    "\n",
    "You are *allowed* to modify the existing code, including other functions.\n",
    "\n",
    "It's *not allowed* to use `reverse` or reverse the array post-sort, you should modify the algorithm intead.\n",
    "\n",
    "**NOTE**: If you modified the `Code` section below, don't forget to \"re-run\" the cell to apply the changes, before running the test cases."
   ],
   "metadata": {
    "id": "qMpb7NFfkYjp"
   }
  },
  {
   "cell_type": "code",
   "metadata": {
    "id": "Jl3Vgd9L7RMW",
    "ExecuteTime": {
     "end_time": "2024-11-26T07:07:47.600816Z",
     "start_time": "2024-11-26T07:07:47.594985Z"
    }
   },
   "source": [
    "# Given merge sort implementation\n",
    "def merge_sort(arr):\n",
    "    if len(arr) > 1:\n",
    "        mid = len(arr) // 2\n",
    "        left = arr[:mid]\n",
    "        right = arr[mid:]\n",
    "\n",
    "        merge_sort(left)\n",
    "        merge_sort(right)\n",
    "\n",
    "        merge(arr, left, right)\n",
    "\n",
    "def merge(arr, left, right):\n",
    "    i = j = k = 0\n",
    "\n",
    "    while i < len(left) and j < len(right):\n",
    "        if left[i] > right[j]:\n",
    "            arr[k] = left[i]\n",
    "            i += 1\n",
    "        else:\n",
    "            arr[k] = right[j]\n",
    "            j += 1\n",
    "        k += 1\n",
    "\n",
    "    # Copy remaining elements\n",
    "    while i < len(left):\n",
    "        arr[k] = left[i]\n",
    "        i += 1\n",
    "        k += 1\n",
    "\n",
    "    while j < len(right):\n",
    "        arr[k] = right[j]\n",
    "        j += 1\n",
    "        k += 1"
   ],
   "outputs": [],
   "execution_count": 2
  },
  {
   "cell_type": "markdown",
   "source": [
    "You can test your implementation using the test cases below.\n",
    "\n",
    "It's not allowed to remove tests. But you can add more tests or add more cells (sections)."
   ],
   "metadata": {
    "id": "NOdjUE--lO8e"
   }
  },
  {
   "cell_type": "code",
   "source": [
    "# @title Tests\n",
    "\n",
    "arr = [3, 1, 4, 1, 5, 9, 2, 6]\n",
    "merge_sort(arr)\n",
    "assert arr == [9, 6, 5, 4, 3, 2, 1, 1], f\"Failed for {arr}\"\n",
    "\n",
    "arr = [1, 2, 3, 4, 5]\n",
    "merge_sort(arr)\n",
    "assert arr == [5, 4, 3, 2, 1], f\"Failed for {arr}\"\n",
    "\n",
    "arr = [5, 4, 3, 2, 1]\n",
    "merge_sort(arr)\n",
    "assert arr == [5, 4, 3, 2, 1], f\"Failed for {arr}\"\n",
    "\n",
    "print(\"\\033[92mAll test cases passed\\033[0m\")"
   ],
   "metadata": {
    "colab": {
     "base_uri": "https://localhost:8080/",
     "height": 216
    },
    "id": "l75fcwZplW42",
    "outputId": "f8199557-2789-4476-b89c-7cbc00c4fa4c",
    "ExecuteTime": {
     "end_time": "2024-11-26T07:07:50.568255Z",
     "start_time": "2024-11-26T07:07:50.563263Z"
    }
   },
   "outputs": [
    {
     "name": "stdout",
     "output_type": "stream",
     "text": [
      "\u001B[92mAll test cases passed\u001B[0m\n"
     ]
    }
   ],
   "execution_count": 3
  },
  {
   "cell_type": "markdown",
   "source": [
    "**Expected Output:**\n",
    "\n",
    "All test cases passed"
   ],
   "metadata": {
    "id": "SkV80OK-mf5y"
   }
  }
 ]
}
